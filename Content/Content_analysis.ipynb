{
  "nbformat": 4,
  "nbformat_minor": 0,
  "metadata": {
    "colab": {
      "provenance": []
    },
    "kernelspec": {
      "name": "python3",
      "display_name": "Python 3"
    },
    "language_info": {
      "name": "python"
    }
  },
  "cells": [
    {
      "cell_type": "code",
      "source": [
        "import string\n",
        "import nltk\n",
        "nltk.download('punkt')\n",
        "from nltk.corpus import stopwords\n",
        "nltk.download('stopwords')\n",
        "from collections import Counter\n",
        "import requests\n",
        "from bs4 import BeautifulSoup"
      ],
      "metadata": {
        "colab": {
          "base_uri": "https://localhost:8080/"
        },
        "id": "aFT3ygy296R_",
        "outputId": "b94913de-f6e0-476d-a787-17b1953f6f0a"
      },
      "execution_count": 15,
      "outputs": [
        {
          "output_type": "stream",
          "name": "stderr",
          "text": [
            "[nltk_data] Downloading package punkt to /root/nltk_data...\n",
            "[nltk_data]   Package punkt is already up-to-date!\n",
            "[nltk_data] Downloading package stopwords to /root/nltk_data...\n",
            "[nltk_data]   Package stopwords is already up-to-date!\n"
          ]
        }
      ]
    },
    {
      "cell_type": "code",
      "source": [
        "def get_web_content(url):\n",
        "  response = requests.get(url)\n",
        "  soup = BeautifulSoup(response.content, 'html.parser')\n",
        "  news = soup.get_text()\n",
        "  return news\n"
      ],
      "metadata": {
        "id": "RHmJeDBZ__Bz"
      },
      "execution_count": 16,
      "outputs": []
    },
    {
      "cell_type": "code",
      "execution_count": 17,
      "metadata": {
        "id": "izjxAMoh9kwm"
      },
      "outputs": [],
      "source": [
        "def text_preprocessing(news):\n",
        "  p_txt=news.translate(str.maketrans('','',string.punctuation))\n",
        "  p_txt=p_txt.lower()\n",
        "  tokens = nltk.word_tokenize(p_txt)\n",
        "  stop_words=set(stopwords.words(\"english\"))\n",
        "  filtered_tokens=[ t for t in tokens if t not in stop_words]\n",
        "  return filtered_tokens"
      ]
    },
    {
      "cell_type": "code",
      "source": [
        "def get_top10(filtered_tokens):\n",
        "  word_count=Counter(filtered_tokens)\n",
        "  sorted_words = sorted(word_count.items(), key=lambda x: x[1], reverse=True)\n",
        "  Top10=sorted_words[:10]\n",
        "  return(Top10)\n"
      ],
      "metadata": {
        "id": "BhwytXHK-Quu"
      },
      "execution_count": 18,
      "outputs": []
    },
    {
      "cell_type": "code",
      "source": [
        "url=input(\"Enter URL of news article:\")\n",
        "news=get_web_content(url)\n",
        "filtered_tokens=text_preprocessing(news)\n",
        "Top10=get_top10(filtered_tokens)\n",
        "print(Top10)\n",
        "\n",
        "\n"
      ],
      "metadata": {
        "colab": {
          "base_uri": "https://localhost:8080/"
        },
        "id": "bD-rEumtAvLt",
        "outputId": "75842ad6-cdff-4cf8-a5de-eaba400ab52a"
      },
      "execution_count": 19,
      "outputs": [
        {
          "output_type": "stream",
          "name": "stdout",
          "text": [
            "Enter URL of news article:https://www.thehindu.com/news/national/jaishankar-discusses-sudan-situation-with-uk-foreign-secretary-james-cleverly/article66783910.ece\n",
            "[('sudan', 27), ('india', 21), ('“', 17), ('indians', 16), ('”', 16), ('indian', 13), ('said', 12), ('kwatra', 11), ('ins', 9), ('port', 9)]\n"
          ]
        }
      ]
    },
    {
      "cell_type": "code",
      "source": [],
      "metadata": {
        "id": "72Bif3ftCB0i"
      },
      "execution_count": null,
      "outputs": []
    }
  ]
}